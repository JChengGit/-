{
 "cells": [
  {
   "cell_type": "code",
   "execution_count": 1,
   "metadata": {},
   "outputs": [],
   "source": [
    "\n",
    "\"\"\"\n",
    "1，词到文档\n",
    "2，数据的分配\n",
    "3，训练\n",
    "4，结果\n",
    "\"\"\"\n",
    "\n",
    "# -*- coding: utf-8 -*-\n",
    "import os,sys,pymysql\n",
    "import numpy as np\n",
    "from gensim.models import word2vec\n",
    "from sklearn.model_selection import train_test_split\n",
    "from sklearn.metrics import classification_report,confusion_matrix\n",
    "from sklearn.naive_bayes import GaussianNB,ComplementNB,BernoulliNB\n",
    "from sklearn.neighbors import KNeighborsClassifier\n",
    "from sklearn.svm import SVC\n"
   ]
  },
  {
   "cell_type": "code",
   "execution_count": 2,
   "metadata": {
    "scrolled": true
   },
   "outputs": [],
   "source": [
    "# 文档向量研究\n",
    "\n",
    "model = word2vec.Word2Vec.load('Zi_vec.bin')\n",
    "\n",
    "# 直接横向相加\n",
    "def wv2dv(t):\n",
    "    text=\"\"\n",
    "    for uchar in t:\n",
    "        if (uchar >= '\\u4e00' and uchar <= '\\u9fa5'):\n",
    "            text+=uchar\n",
    "    lth = len(text)\n",
    "    dv = np.zeros(100)\n",
    "    for i in text:\n",
    "        try:\n",
    "            dv += model.wv[i]\n",
    "        except:\n",
    "            lth-=1\n",
    "    l = max(1,lth)\n",
    "    dv = dv/l\n",
    "    return dv\n",
    "\n",
    "# 纵向扩展为400维再横向相加\n",
    "def wv2dv400(t):\n",
    "    text=\"\"\n",
    "    for uchar in t:\n",
    "        if (uchar >= '\\u4e00' and uchar <= '\\u9fa5'):\n",
    "            text+=uchar\n",
    "    lth = len(text)\n",
    "    sp,md,lp = int(lth/4),int(lth/2),int(lth/4*3)\n",
    "    ta,tb,tc,td = text[:sp],text[sp:md],text[md:lp],text[lp:]\n",
    "    dv = np.array([])\n",
    "    for i in [ta,tb,tc,td]:\n",
    "        j = wv2dv(i)\n",
    "        dv = np.hstack((dv,j))\n",
    "    return dv\n",
    "\n",
    "x=wv2dv400('饮马渡秋水，水寒风似刀。平沙日未没，黯黯见临洮。昔日长城战，咸言意气高。黄尘足今古，白骨乱蓬蒿。')\n",
    "y=wv2dv('黑云压城城欲摧，甲光向日金鳞开。角声满天秋色里，塞上燕脂凝夜紫。半卷红旗临易水，霜重鼓寒声不起。报君黄金台上意，提携玉龙为君死。')\n",
    "y=wv2dv('一半残阳下小楼，朱帘斜控软金钩。倚阑无绪不能愁。有个盈盈骑马过，薄妆浅黛亦风流。见人羞涩却回头。')\n",
    "\n",
    "def cos_sim(x,y):\n",
    "    A=np.mat(x)\n",
    "    B=np.mat(y)\n",
    "    num = float(A * B.T) \n",
    "    denom = np.linalg.norm(A) * np.linalg.norm(B)  \n",
    "    cos = num / denom #余弦值\n",
    "    return cos\n"
   ]
  },
  {
   "cell_type": "code",
   "execution_count": 3,
   "metadata": {},
   "outputs": [],
   "source": [
    "# database part\n",
    "CONN = pymysql.connect(host='127.0.0.1', port=3306, user='root', passwd='1234', db='topic')\n",
    "cur = CONN.cursor()\n",
    "\n",
    "def fromdb(topic):\n",
    "    rs=[]\n",
    "    for i in range(1,900):\n",
    "        try:\n",
    "            sql = \"select content from %s where id=%s\"%(topic,i)\n",
    "            cur.execute(sql)\n",
    "            text = cur.fetchall()[0][0]\n",
    "            rs.append(text)\n",
    "        except:\n",
    "            pass\n",
    "    return rs"
   ]
  },
  {
   "cell_type": "code",
   "execution_count": 38,
   "metadata": {},
   "outputs": [],
   "source": [
    "# 训练集和测试集\n",
    "\n",
    "topic_dic = {\n",
    "    'war':      \"战争边塞\",\n",
    "    'scene':    \"山水景致\",\n",
    "    'farewell': \"离别送别\",\n",
    "    'travel':   \"行旅思乡\",\n",
    "    # 'history':  \"咏史怀古\",\n",
    "    'love':     \"爱情闺怨\",\n",
    "}\n",
    "\n",
    "x_raw = []\n",
    "y_raw = []\n",
    "topics = ['war','scene','farewell','travel','love']\n",
    "for index in range(5):\n",
    "    at = fromdb(topics[index])\n",
    "    for i in at:\n",
    "        j = np.hstack((wv2dv(i),np.array(index/4)))\n",
    "        #j = wv2dv(i) # 向量化\n",
    "        x_raw.append(j)\n",
    "        y_raw.append(topics[index])\n",
    "x = np.array(x_raw)\n",
    "y = np.array(y_raw)\n",
    "xtrain,xtest,ytrain,ytest = train_test_split(x,y,test_size=0.25,random_state=6) # 存在切分不均的问题\n"
   ]
  },
  {
   "cell_type": "code",
   "execution_count": 32,
   "metadata": {
    "scrolled": true
   },
   "outputs": [
    {
     "name": "stdout",
     "output_type": "stream",
     "text": [
      "accuracy: 0.5517826825127334\n",
      "              precision    recall  f1-score   support\n",
      "\n",
      "         war       0.56      0.46      0.51       189\n",
      "       scene       0.59      0.62      0.60       138\n",
      "    farewell       0.65      0.54      0.59       138\n",
      "      travel       0.38      0.52      0.44        87\n",
      "        love       0.59      0.92      0.72        37\n",
      "\n",
      "    accuracy                           0.55       589\n",
      "   macro avg       0.55      0.61      0.57       589\n",
      "weighted avg       0.56      0.55      0.55       589\n",
      "\n"
     ]
    }
   ],
   "source": [
    "# 贝叶斯\n",
    "Bayes = GaussianNB()\n",
    "Bayes = BernoulliNB()\n",
    "Bayes.fit(xtrain,ytrain)\n",
    "\n",
    "ypred = Bayes.predict(xtest)\n",
    "accuracy = (ytest==ypred).sum()/xtest.shape[0]\n",
    "print('accuracy:',accuracy)\n",
    "print(classification_report(ytest,ypred,target_names=['war','scene','farewell','travel','love']))"
   ]
  },
  {
   "cell_type": "code",
   "execution_count": 36,
   "metadata": {},
   "outputs": [
    {
     "name": "stdout",
     "output_type": "stream",
     "text": [
      "accuracy: 0.7419354838709677\n",
      "              precision    recall  f1-score   support\n",
      "\n",
      "         war       0.58      0.95      0.72       189\n",
      "       scene       0.93      0.91      0.92       138\n",
      "    farewell       0.92      0.57      0.71       138\n",
      "      travel       0.84      0.24      0.38        87\n",
      "        love       0.89      0.89      0.89        37\n",
      "\n",
      "    accuracy                           0.74       589\n",
      "   macro avg       0.83      0.71      0.72       589\n",
      "weighted avg       0.80      0.74      0.72       589\n",
      "\n"
     ]
    }
   ],
   "source": [
    "knn = KNeighborsClassifier(n_neighbors=25, weights='uniform')\n",
    "knn.fit(xtrain, ytrain)\n",
    "\n",
    "ypred = knn.predict(xtest)\n",
    "accuracy = (ytest==ypred).sum()/xtest.shape[0]\n",
    "print('accuracy:',accuracy)\n",
    "print(classification_report(ytest,ypred,target_names=['war','scene','farewell','travel','love']))"
   ]
  },
  {
   "cell_type": "code",
   "execution_count": 39,
   "metadata": {
    "scrolled": true
   },
   "outputs": [
    {
     "name": "stdout",
     "output_type": "stream",
     "text": [
      "accuracy: 0.8505942275042445\n",
      "              precision    recall  f1-score   support\n",
      "\n",
      "         war       0.80      0.88      0.84       189\n",
      "       scene       0.94      0.95      0.94       138\n",
      "    farewell       0.89      0.82      0.85       138\n",
      "      travel       0.75      0.67      0.71        87\n",
      "        love       0.91      0.86      0.89        37\n",
      "\n",
      "    accuracy                           0.85       589\n",
      "   macro avg       0.86      0.84      0.85       589\n",
      "weighted avg       0.85      0.85      0.85       589\n",
      "\n"
     ]
    },
    {
     "data": {
      "text/plain": [
       "array([[167,   0,  10,  12,   0],\n",
       "       [  0, 131,   0,   7,   0],\n",
       "       [ 22,   0, 113,   0,   3],\n",
       "       [ 20,   9,   0,  58,   0],\n",
       "       [  1,   0,   4,   0,  32]], dtype=int64)"
      ]
     },
     "execution_count": 39,
     "metadata": {},
     "output_type": "execute_result"
    }
   ],
   "source": [
    "params = {'kernel':'linear'}#,'class_weight':'balanced'}\n",
    "params = {'kernel':'rbf'}\n",
    "SVM = SVC(**params,gamma='scale')\n",
    "SVM.fit(xtrain, ytrain)\n",
    "\n",
    "ypred = SVM.predict(xtest)\n",
    "accuracy = (ytest==ypred).sum()/xtest.shape[0]\n",
    "print('accuracy:',accuracy)\n",
    "print(classification_report(ytest,ypred,target_names=['war','scene','farewell','travel','love']))\n",
    "\n",
    "confusion_matrix(ytest,ypred)"
   ]
  },
  {
   "cell_type": "code",
   "execution_count": 24,
   "metadata": {},
   "outputs": [
    {
     "data": {
      "text/plain": [
       "{'war': 53.58,\n",
       " 'scene': 67.74,\n",
       " 'farewell': 59.21,\n",
       " 'travel': 52.4,\n",
       " 'love': 46.46}"
      ]
     },
     "execution_count": 24,
     "metadata": {},
     "output_type": "execute_result"
    }
   ],
   "source": [
    "# 测试加权向量空间准确率\n",
    "\n",
    "co1 = '战 兵 征 将 驱 匈 酋 俘 羌 胡 烟 刀 剑 枪 弓 虏 鏖 寨 霸 敌 陷 戍 革 慑 烽 堠 垒 寨 燧 柝 塞 \\\n",
    "碛 笳 军 氐 戈 擒 贼 漠 朔 雁 金 铁 马 孤 沙 城'\n",
    "war = []\n",
    "t = co1.split(\" \")\n",
    "for i in t:\n",
    "    war.append(i)\n",
    "\n",
    "co1 = '咏 史 怀 古 赋 讽 颂 唱 诵 句 雅 写 录 守 典 简 谱 念 晏 功 名 城 桥 淮 讴 宫 庭 祠 兴 亡 悼 \\\n",
    "景 慨 泯 废 存 丧 殁 遗 陈 罪 患 悔 忿 朽 国 吴 楚 商 周 秦 汉 魏 蜀 祚 据 遗 仲' \n",
    "history = []\n",
    "t = co1.split(\" \")\n",
    "for i in t:\n",
    "    history.append(i)    \n",
    "\n",
    "co1 = '雨 雪 寒 蝉 蝶 菜 畦 苗 冷 秋 凉 霜 晴 境 色 丽 景 月 晓 梢 皑 雾 花 樱 梢 芳 鸟 峰 山 云 柳 \\\n",
    "岚 霭 峦 层 虹 嶂 霞 雾 杏 绿 树 杨 堤 湾 港 溪 隄'\n",
    "scene = []\n",
    "t = co1.split(\" \")\n",
    "for i in t:\n",
    "    scene.append(i)    \n",
    "\n",
    "co1 = '别 离 辞 送 去 到 过 逐 恨 向 路 归 话 客 离 暌 怆 亭 钟 驿 酒 旅 愁 怆 悽 伤 道 愁 肠 江 夜 月 \\\n",
    "枫 叶 寄 迹 故 村 晚 渡 江 猿 啸 楚 风 浮 孤 空 尽 流'\n",
    "bye = []\n",
    "t = co1.split(\" \")\n",
    "for i in t:\n",
    "    bye.append(i)    \n",
    "\n",
    "co1 = '月 书 思 怀 忆 愁 情 期 忘 悽 念 逢 客 家 邦 归 还 乡 行 程 途 停 还 游 蹰 来 寻 徉 俳 驿 旅 枫 \\\n",
    "叶 邮 渡 路 羁 故 旧 寄 迹 村 浮 舟 梦 灯 夜'\n",
    "trip = []\n",
    "t = co1.split(\" \")\n",
    "for i in t:\n",
    "    trip.append(i)    \n",
    "\n",
    "co1 = '盼 月 残 丝 宵 倚 袂 绡 夫 婿 嫂 嫁 香 鸳 鸯 彩 绣 怜 桃 花 扇 蛾 红 郎 爱 惜 好 怀 心 愁 悽 \\\n",
    "缱 思 意 闺 帏 怨 诉 恨 泣 哀 哭 叹 悲 君 思 姬 妃 婷 伶 裙 衫 绫 襦 裀 绉 绡 鱼 寄 眉 怜 卿 佳 鹊 柔'\n",
    "love = []\n",
    "t = co1.split(\" \")\n",
    "for i in t:\n",
    "    love.append(i)\n",
    "    \n",
    "def cutp(poet):\n",
    "    return [letter for letter in poet if letter not in ['，','。',' ','！','；']]\n",
    "\n",
    "def count(title,target,topic):\n",
    "    simi = []\n",
    "    title_similarity = 0\n",
    "    if title != '':\n",
    "        for i in title:\n",
    "            distance = []\n",
    "            for t in topic:\n",
    "                distance.append(min(model.wv.similarity(i,t),0.8))\n",
    "            dis = 0\n",
    "            distancelist = sorted(distance)[-10:]\n",
    "            for wt in range(10):\n",
    "                dis += (wt/10+1)*distancelist[wt]\n",
    "            simi.append(dis)\n",
    "        title_similarity = sum(simi)/len(simi)*3\n",
    "        \n",
    "    simi = []\n",
    "    wid = int(len(target)/4)\n",
    "    for i in target:\n",
    "        distance = []\n",
    "        for t in topic:\n",
    "            distance.append(min(model.wv.similarity(i,t),0.8))\n",
    "        dis = 0\n",
    "        distancelist = sorted(distance)[-10:]\n",
    "        for wt in range(10):\n",
    "            dis += (wt/10+1)*distancelist[wt]\n",
    "        simi.append(dis)\n",
    "    similarity = sum(sorted(simi)[-wid:])/wid*10\n",
    "    return round(title_similarity+similarity,2)#,round(title_similarity,3),round(similarity,3)\n",
    "\n",
    "def classify(title,poet):\n",
    "    target = cutp(poet)\n",
    "    re = {#'咏史怀古':count(title,target,history),\n",
    "    'war':count(title,target,war),\n",
    "    'scene':count(title,target,scene),\n",
    "    'farewell':count(title,target,bye),\n",
    "    'travel':count(title,target,trip),\n",
    "    'love':count(title,target,love)}\n",
    "    return re\n",
    "\n",
    "title= '望岳'\n",
    "\n",
    "content = '岱宗夫如何？齐鲁青未了。\\\n",
    "造化钟神秀，阴阳割昏晓。\\\n",
    "荡胸生曾云，决眦入归鸟。\\\n",
    "会当凌绝顶，一览众山小。'\n",
    "\n",
    "classify(title,content)\n"
   ]
  },
  {
   "cell_type": "code",
   "execution_count": null,
   "metadata": {},
   "outputs": [],
   "source": []
  }
 ],
 "metadata": {
  "kernelspec": {
   "display_name": "Python 3",
   "language": "python",
   "name": "python3"
  },
  "language_info": {
   "codemirror_mode": {
    "name": "ipython",
    "version": 3
   },
   "file_extension": ".py",
   "mimetype": "text/x-python",
   "name": "python",
   "nbconvert_exporter": "python",
   "pygments_lexer": "ipython3",
   "version": "3.7.4"
  }
 },
 "nbformat": 4,
 "nbformat_minor": 2
}
