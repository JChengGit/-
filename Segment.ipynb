{
 "cells": [
  {
   "cell_type": "code",
   "execution_count": 20,
   "metadata": {
    "scrolled": true
   },
   "outputs": [
    {
     "name": "stdout",
     "output_type": "stream",
     "text": [
      "君不见 黄河 之水 天上 来 ， 奔流 到 海不复 回 。 君不见 高堂 明镜 悲 白发 ， 朝如 青丝 暮成 雪 。 人生 得意 须尽欢 ， 莫使 金樽空 对 月 。 天生我材必有用 ， 千金 散尽 还 复来 。 烹羊 宰牛 且 为乐 ， 会须 一饮 三百杯 。 岑 夫子 ， 丹丘 生 ， 将进酒 ， 君莫停 。 与 君歌 一曲 ， 请君 为 我 侧耳 听 。 钟鼓馔玉 不足 贵 ， 但愿 长醉 不愿醒 。 古来 圣贤 皆 寂寞 ， 惟有 饮者 留其名 。 陈王 昔时 宴 平乐 ， 斗酒 十千 恣 讙 谑 。 主人 何为 言少 钱 ， 径须 沽 取 对 君酌 。 五花马 ， 千金 裘 ， 呼儿 将 出换 美酒 ， 与尔同销 万古愁 。\n",
      "\n"
     ]
    }
   ],
   "source": [
    "import pymysql,jieba,thulac\n",
    "CONN = pymysql.connect(host='127.0.0.1', port=3306, user='root', passwd='1234', db='poetry')\n",
    "cur = CONN.cursor()\n",
    "\n",
    "sql = \"SELECT content,author FROM tang WHERE author='李白'and title='将进酒'\"\n",
    "cur.execute(sql)\n",
    "text = cur.fetchall()[0][0]\n",
    "\n",
    "segment = jieba.cut(text,use_paddle=True)\n",
    "print(' '.join(segment))\n",
    "\n",
    "#thu1 = thulac.thulac()\n",
    "#segment2 = thu1.cut(text,text=True)\n",
    "\n",
    "#CONN.commit()\n",
    "CONN.close()\n",
    "last = []\n",
    "for i in segment:\n",
    "    if len(i)<3:\n",
    "        last.append(i)\n",
    "    else:\n",
    "        sub = jieba.cut(i,use_paddle=True)\n",
    "        for j in sub:\n",
    "            last.append(j)\n",
    "            \n",
    "\n",
    "print(' '.join(last))"
   ]
  }
 ],
 "metadata": {
  "kernelspec": {
   "display_name": "Python 3",
   "language": "python",
   "name": "python3"
  },
  "language_info": {
   "codemirror_mode": {
    "name": "ipython",
    "version": 3
   },
   "file_extension": ".py",
   "mimetype": "text/x-python",
   "name": "python",
   "nbconvert_exporter": "python",
   "pygments_lexer": "ipython3",
   "version": "3.7.4"
  }
 },
 "nbformat": 4,
 "nbformat_minor": 2
}
