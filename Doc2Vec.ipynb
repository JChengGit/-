{
 "cells": [
  {
   "cell_type": "code",
   "execution_count": null,
   "metadata": {},
   "outputs": [],
   "source": [
    "# -*- coding: utf-8 -*-\n",
    "import os\n",
    "import gensim\n",
    "from gensim.models import Doc2Vec\n"
   ]
  },
  {
   "cell_type": "code",
   "execution_count": null,
   "metadata": {},
   "outputs": [],
   "source": [
    "documents = []\n",
    "\n",
    "\n",
    "with open('Zi_corpus.txt','r',encoding='utf-8') as f:\n",
    "    poets = f.readlines()\n",
    "    count = 0\n",
    "    for poet in poets:\n",
    "        words = poet.replace(' ，','').replace(' 。','').replace('\\n','').split(' ')\n",
    "        documents.append(gensim.models.doc2vec.TaggedDocument(words, [str(count)]))\n",
    "        count += 1"
   ]
  },
  {
   "cell_type": "code",
   "execution_count": null,
   "metadata": {},
   "outputs": [],
   "source": [
    "model = Doc2Vec(documents, dm=1, size=100, window=8, min_count=5, workers=4)\n",
    "model.save('Doc2Vec.model')"
   ]
  },
  {
   "cell_type": "code",
   "execution_count": null,
   "metadata": {},
   "outputs": [],
   "source": [
    "text = '接下来看看训练好的模型可以做什么'\n",
    "model.infer_vector(' '.join(text).split(' '))"
   ]
  }
 ],
 "metadata": {
  "kernelspec": {
   "display_name": "Python 3",
   "language": "python",
   "name": "python3"
  },
  "language_info": {
   "codemirror_mode": {
    "name": "ipython",
    "version": 3
   },
   "file_extension": ".py",
   "mimetype": "text/x-python",
   "name": "python",
   "nbconvert_exporter": "python",
   "pygments_lexer": "ipython3",
   "version": "3.7.4"
  }
 },
 "nbformat": 4,
 "nbformat_minor": 2
}
