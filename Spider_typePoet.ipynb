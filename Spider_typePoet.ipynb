{
 "cells": [
  {
   "cell_type": "code",
   "execution_count": 51,
   "metadata": {},
   "outputs": [],
   "source": [
    "import requests,re,pymysql\n",
    "from bs4 import BeautifulSoup"
   ]
  },
  {
   "cell_type": "code",
   "execution_count": 74,
   "metadata": {},
   "outputs": [
    {
     "name": "stdout",
     "output_type": "stream",
     "text": [
      "Fin\n"
     ]
    }
   ],
   "source": [
    "CONN = pymysql.connect(host='127.0.0.1', port=3306, user='root', passwd='1234', db='topic')\n",
    "cur = CONN.cursor()\n",
    "\n",
    "sql = 'create table history(id int primary key not null auto_increment, title varchar(300), content varchar(3000))'\n",
    "\n",
    "cur.execute(sql)\n",
    "CONN.close()\n",
    "print('Fin')"
   ]
  },
  {
   "cell_type": "code",
   "execution_count": 132,
   "metadata": {},
   "outputs": [],
   "source": [
    "url = 'https://so.gushiwen.org/gushi/xue.aspx'\n",
    "page = requests.get(url)\n",
    "soup = BeautifulSoup(page.text)\n",
    "content = soup.find('div',class_='typecont').find_all('a')[:30]"
   ]
  },
  {
   "cell_type": "code",
   "execution_count": 134,
   "metadata": {},
   "outputs": [],
   "source": [
    "url = 'https://so.gushiwen.org/gushi/shanshui.aspx'\n",
    "page = requests.get(url)\n",
    "soup = BeautifulSoup(page.text)\n",
    "content = soup.find_all('div',class_='typecont')\n",
    "book = []\n",
    "for i in content:\n",
    "    c = i.find_all('a')\n",
    "    for j in c:\n",
    "        book.append(j)\n",
    "content = book"
   ]
  },
  {
   "cell_type": "code",
   "execution_count": 135,
   "metadata": {
    "scrolled": false
   },
   "outputs": [],
   "source": [
    "def readpoet(url):\n",
    "    path = \"https://so.gushiwen.org\"\n",
    "    url = path+url\n",
    "    page = requests.get(url)\n",
    "    text = BeautifulSoup(page.text)\n",
    "    poet = text.find('textarea').get_text().split('——')[0]\n",
    "    t = re.sub('\\(.*\\)','',poet)\n",
    "    p = re.sub('\\（.*\\）','',t)\n",
    "    return p"
   ]
  },
  {
   "cell_type": "code",
   "execution_count": 136,
   "metadata": {
    "scrolled": false
   },
   "outputs": [
    {
     "name": "stdout",
     "output_type": "stream",
     "text": [
      "Fin\n"
     ]
    }
   ],
   "source": [
    "CONN = pymysql.connect(host='127.0.0.1', port=3306, user='root', passwd='1234', db='topic')\n",
    "cur = CONN.cursor()\n",
    "\n",
    "for i in content:\n",
    "    title = str(i.string)\n",
    "    text = readpoet(i['href'])\n",
    "    sql = \"insert into scene(title,content) value('%s','%s');\"%(title,text)\n",
    "    try:\n",
    "        cur.execute(sql)\n",
    "    except:\n",
    "        pass\n",
    "    \n",
    "CONN.commit()\n",
    "CONN.close()\n",
    "print('Fin')"
   ]
  },
  {
   "cell_type": "code",
   "execution_count": null,
   "metadata": {},
   "outputs": [],
   "source": []
  }
 ],
 "metadata": {
  "kernelspec": {
   "display_name": "Python 3",
   "language": "python",
   "name": "python3"
  },
  "language_info": {
   "codemirror_mode": {
    "name": "ipython",
    "version": 3
   },
   "file_extension": ".py",
   "mimetype": "text/x-python",
   "name": "python",
   "nbconvert_exporter": "python",
   "pygments_lexer": "ipython3",
   "version": "3.7.4"
  }
 },
 "nbformat": 4,
 "nbformat_minor": 2
}
